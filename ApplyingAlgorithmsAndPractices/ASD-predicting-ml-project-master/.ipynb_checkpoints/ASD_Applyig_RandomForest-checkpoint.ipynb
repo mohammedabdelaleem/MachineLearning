{
 "cells": [
  {
   "cell_type": "markdown",
   "id": "e820e65d",
   "metadata": {},
   "source": [
    "## Import Needed Libraries "
   ]
  },
  {
   "cell_type": "code",
   "execution_count": 1,
   "id": "4380d217",
   "metadata": {},
   "outputs": [],
   "source": [
    "import pandas as pd\n",
    "import numpy as np\n",
    "import matplotlib.pyplot as plt\n",
    "import seaborn as sns"
   ]
  },
  {
   "cell_type": "code",
   "execution_count": 2,
   "id": "4b7bc51c",
   "metadata": {},
   "outputs": [
    {
     "data": {
      "text/html": [
       "<div>\n",
       "<style scoped>\n",
       "    .dataframe tbody tr th:only-of-type {\n",
       "        vertical-align: middle;\n",
       "    }\n",
       "\n",
       "    .dataframe tbody tr th {\n",
       "        vertical-align: top;\n",
       "    }\n",
       "\n",
       "    .dataframe thead th {\n",
       "        text-align: right;\n",
       "    }\n",
       "</style>\n",
       "<table border=\"1\" class=\"dataframe\">\n",
       "  <thead>\n",
       "    <tr style=\"text-align: right;\">\n",
       "      <th></th>\n",
       "      <th>CASE_NO_PATIENT'S</th>\n",
       "      <th>A1</th>\n",
       "      <th>A2</th>\n",
       "      <th>A3</th>\n",
       "      <th>A4</th>\n",
       "      <th>A5</th>\n",
       "      <th>A6</th>\n",
       "      <th>A7</th>\n",
       "      <th>A8</th>\n",
       "      <th>A9</th>\n",
       "      <th>...</th>\n",
       "      <th>Global developmental delay/intellectual disability</th>\n",
       "      <th>Social/Behavioural Issues</th>\n",
       "      <th>Childhood Autism Rating Scale</th>\n",
       "      <th>Anxiety_disorder</th>\n",
       "      <th>Sex</th>\n",
       "      <th>Ethnicity</th>\n",
       "      <th>Jaundice</th>\n",
       "      <th>Family_mem_with_ASD</th>\n",
       "      <th>Who_completed_the_test</th>\n",
       "      <th>ASD_traits</th>\n",
       "    </tr>\n",
       "  </thead>\n",
       "  <tbody>\n",
       "    <tr>\n",
       "      <th>0</th>\n",
       "      <td>1</td>\n",
       "      <td>0</td>\n",
       "      <td>0</td>\n",
       "      <td>0</td>\n",
       "      <td>0</td>\n",
       "      <td>0</td>\n",
       "      <td>0</td>\n",
       "      <td>1</td>\n",
       "      <td>1</td>\n",
       "      <td>0</td>\n",
       "      <td>...</td>\n",
       "      <td>Yes</td>\n",
       "      <td>Yes</td>\n",
       "      <td>1</td>\n",
       "      <td>Yes</td>\n",
       "      <td>F</td>\n",
       "      <td>middle eastern</td>\n",
       "      <td>Yes</td>\n",
       "      <td>No</td>\n",
       "      <td>Family Member</td>\n",
       "      <td>No</td>\n",
       "    </tr>\n",
       "    <tr>\n",
       "      <th>1</th>\n",
       "      <td>2</td>\n",
       "      <td>1</td>\n",
       "      <td>1</td>\n",
       "      <td>0</td>\n",
       "      <td>0</td>\n",
       "      <td>0</td>\n",
       "      <td>1</td>\n",
       "      <td>1</td>\n",
       "      <td>0</td>\n",
       "      <td>0</td>\n",
       "      <td>...</td>\n",
       "      <td>Yes</td>\n",
       "      <td>Yes</td>\n",
       "      <td>2</td>\n",
       "      <td>Yes</td>\n",
       "      <td>M</td>\n",
       "      <td>White European</td>\n",
       "      <td>Yes</td>\n",
       "      <td>No</td>\n",
       "      <td>Family Member</td>\n",
       "      <td>Yes</td>\n",
       "    </tr>\n",
       "    <tr>\n",
       "      <th>2</th>\n",
       "      <td>3</td>\n",
       "      <td>1</td>\n",
       "      <td>0</td>\n",
       "      <td>0</td>\n",
       "      <td>0</td>\n",
       "      <td>0</td>\n",
       "      <td>0</td>\n",
       "      <td>1</td>\n",
       "      <td>1</td>\n",
       "      <td>0</td>\n",
       "      <td>...</td>\n",
       "      <td>Yes</td>\n",
       "      <td>Yes</td>\n",
       "      <td>4</td>\n",
       "      <td>Yes</td>\n",
       "      <td>M</td>\n",
       "      <td>Middle Eastern</td>\n",
       "      <td>Yes</td>\n",
       "      <td>No</td>\n",
       "      <td>Family Member</td>\n",
       "      <td>Yes</td>\n",
       "    </tr>\n",
       "    <tr>\n",
       "      <th>3</th>\n",
       "      <td>4</td>\n",
       "      <td>1</td>\n",
       "      <td>1</td>\n",
       "      <td>1</td>\n",
       "      <td>1</td>\n",
       "      <td>1</td>\n",
       "      <td>1</td>\n",
       "      <td>1</td>\n",
       "      <td>1</td>\n",
       "      <td>1</td>\n",
       "      <td>...</td>\n",
       "      <td>Yes</td>\n",
       "      <td>Yes</td>\n",
       "      <td>2</td>\n",
       "      <td>Yes</td>\n",
       "      <td>M</td>\n",
       "      <td>Hispanic</td>\n",
       "      <td>No</td>\n",
       "      <td>No</td>\n",
       "      <td>Family Member</td>\n",
       "      <td>Yes</td>\n",
       "    </tr>\n",
       "    <tr>\n",
       "      <th>4</th>\n",
       "      <td>5</td>\n",
       "      <td>1</td>\n",
       "      <td>1</td>\n",
       "      <td>0</td>\n",
       "      <td>1</td>\n",
       "      <td>1</td>\n",
       "      <td>1</td>\n",
       "      <td>1</td>\n",
       "      <td>1</td>\n",
       "      <td>1</td>\n",
       "      <td>...</td>\n",
       "      <td>Yes</td>\n",
       "      <td>Yes</td>\n",
       "      <td>1</td>\n",
       "      <td>Yes</td>\n",
       "      <td>F</td>\n",
       "      <td>White European</td>\n",
       "      <td>No</td>\n",
       "      <td>No</td>\n",
       "      <td>Family Member</td>\n",
       "      <td>Yes</td>\n",
       "    </tr>\n",
       "    <tr>\n",
       "      <th>...</th>\n",
       "      <td>...</td>\n",
       "      <td>...</td>\n",
       "      <td>...</td>\n",
       "      <td>...</td>\n",
       "      <td>...</td>\n",
       "      <td>...</td>\n",
       "      <td>...</td>\n",
       "      <td>...</td>\n",
       "      <td>...</td>\n",
       "      <td>...</td>\n",
       "      <td>...</td>\n",
       "      <td>...</td>\n",
       "      <td>...</td>\n",
       "      <td>...</td>\n",
       "      <td>...</td>\n",
       "      <td>...</td>\n",
       "      <td>...</td>\n",
       "      <td>...</td>\n",
       "      <td>...</td>\n",
       "      <td>...</td>\n",
       "      <td>...</td>\n",
       "    </tr>\n",
       "    <tr>\n",
       "      <th>1980</th>\n",
       "      <td>1981</td>\n",
       "      <td>0</td>\n",
       "      <td>0</td>\n",
       "      <td>0</td>\n",
       "      <td>0</td>\n",
       "      <td>0</td>\n",
       "      <td>0</td>\n",
       "      <td>0</td>\n",
       "      <td>0</td>\n",
       "      <td>0</td>\n",
       "      <td>...</td>\n",
       "      <td>No</td>\n",
       "      <td>No</td>\n",
       "      <td>1</td>\n",
       "      <td>No</td>\n",
       "      <td>M</td>\n",
       "      <td>Middle Eastern</td>\n",
       "      <td>No</td>\n",
       "      <td>No</td>\n",
       "      <td>Health Care Professional</td>\n",
       "      <td>No</td>\n",
       "    </tr>\n",
       "    <tr>\n",
       "      <th>1981</th>\n",
       "      <td>1982</td>\n",
       "      <td>0</td>\n",
       "      <td>0</td>\n",
       "      <td>0</td>\n",
       "      <td>0</td>\n",
       "      <td>0</td>\n",
       "      <td>0</td>\n",
       "      <td>0</td>\n",
       "      <td>0</td>\n",
       "      <td>0</td>\n",
       "      <td>...</td>\n",
       "      <td>No</td>\n",
       "      <td>No</td>\n",
       "      <td>1</td>\n",
       "      <td>No</td>\n",
       "      <td>F</td>\n",
       "      <td>south asian</td>\n",
       "      <td>No</td>\n",
       "      <td>No</td>\n",
       "      <td>Health Care Professional</td>\n",
       "      <td>No</td>\n",
       "    </tr>\n",
       "    <tr>\n",
       "      <th>1982</th>\n",
       "      <td>1983</td>\n",
       "      <td>0</td>\n",
       "      <td>0</td>\n",
       "      <td>0</td>\n",
       "      <td>0</td>\n",
       "      <td>0</td>\n",
       "      <td>0</td>\n",
       "      <td>0</td>\n",
       "      <td>0</td>\n",
       "      <td>0</td>\n",
       "      <td>...</td>\n",
       "      <td>No</td>\n",
       "      <td>No</td>\n",
       "      <td>1</td>\n",
       "      <td>No</td>\n",
       "      <td>M</td>\n",
       "      <td>White European</td>\n",
       "      <td>No</td>\n",
       "      <td>No</td>\n",
       "      <td>Health Care Professional</td>\n",
       "      <td>Yes</td>\n",
       "    </tr>\n",
       "    <tr>\n",
       "      <th>1983</th>\n",
       "      <td>1984</td>\n",
       "      <td>0</td>\n",
       "      <td>0</td>\n",
       "      <td>0</td>\n",
       "      <td>0</td>\n",
       "      <td>0</td>\n",
       "      <td>0</td>\n",
       "      <td>0</td>\n",
       "      <td>0</td>\n",
       "      <td>0</td>\n",
       "      <td>...</td>\n",
       "      <td>No</td>\n",
       "      <td>No</td>\n",
       "      <td>1</td>\n",
       "      <td>No</td>\n",
       "      <td>M</td>\n",
       "      <td>Middle Eastern</td>\n",
       "      <td>No</td>\n",
       "      <td>No</td>\n",
       "      <td>Health Care Professional</td>\n",
       "      <td>No</td>\n",
       "    </tr>\n",
       "    <tr>\n",
       "      <th>1984</th>\n",
       "      <td>1985</td>\n",
       "      <td>0</td>\n",
       "      <td>0</td>\n",
       "      <td>0</td>\n",
       "      <td>0</td>\n",
       "      <td>0</td>\n",
       "      <td>0</td>\n",
       "      <td>0</td>\n",
       "      <td>0</td>\n",
       "      <td>0</td>\n",
       "      <td>...</td>\n",
       "      <td>No</td>\n",
       "      <td>No</td>\n",
       "      <td>1</td>\n",
       "      <td>No</td>\n",
       "      <td>M</td>\n",
       "      <td>White European</td>\n",
       "      <td>No</td>\n",
       "      <td>No</td>\n",
       "      <td>Health Care Professional</td>\n",
       "      <td>Yes</td>\n",
       "    </tr>\n",
       "  </tbody>\n",
       "</table>\n",
       "<p>1985 rows × 28 columns</p>\n",
       "</div>"
      ],
      "text/plain": [
       "      CASE_NO_PATIENT'S  A1  A2  A3  A4  A5  A6  A7  A8  A9  ...  \\\n",
       "0                     1   0   0   0   0   0   0   1   1   0  ...   \n",
       "1                     2   1   1   0   0   0   1   1   0   0  ...   \n",
       "2                     3   1   0   0   0   0   0   1   1   0  ...   \n",
       "3                     4   1   1   1   1   1   1   1   1   1  ...   \n",
       "4                     5   1   1   0   1   1   1   1   1   1  ...   \n",
       "...                 ...  ..  ..  ..  ..  ..  ..  ..  ..  ..  ...   \n",
       "1980               1981   0   0   0   0   0   0   0   0   0  ...   \n",
       "1981               1982   0   0   0   0   0   0   0   0   0  ...   \n",
       "1982               1983   0   0   0   0   0   0   0   0   0  ...   \n",
       "1983               1984   0   0   0   0   0   0   0   0   0  ...   \n",
       "1984               1985   0   0   0   0   0   0   0   0   0  ...   \n",
       "\n",
       "      Global developmental delay/intellectual disability  \\\n",
       "0                                                   Yes    \n",
       "1                                                   Yes    \n",
       "2                                                   Yes    \n",
       "3                                                   Yes    \n",
       "4                                                   Yes    \n",
       "...                                                 ...    \n",
       "1980                                                 No    \n",
       "1981                                                 No    \n",
       "1982                                                 No    \n",
       "1983                                                 No    \n",
       "1984                                                 No    \n",
       "\n",
       "      Social/Behavioural Issues  Childhood Autism Rating Scale  \\\n",
       "0                           Yes                              1   \n",
       "1                           Yes                              2   \n",
       "2                           Yes                              4   \n",
       "3                           Yes                              2   \n",
       "4                           Yes                              1   \n",
       "...                         ...                            ...   \n",
       "1980                         No                              1   \n",
       "1981                         No                              1   \n",
       "1982                         No                              1   \n",
       "1983                         No                              1   \n",
       "1984                         No                              1   \n",
       "\n",
       "      Anxiety_disorder Sex       Ethnicity Jaundice Family_mem_with_ASD  \\\n",
       "0                  Yes   F  middle eastern      Yes                  No   \n",
       "1                  Yes   M  White European      Yes                  No   \n",
       "2                  Yes   M  Middle Eastern      Yes                  No   \n",
       "3                  Yes   M        Hispanic       No                  No   \n",
       "4                  Yes   F  White European       No                  No   \n",
       "...                ...  ..             ...      ...                 ...   \n",
       "1980                No   M  Middle Eastern       No                  No   \n",
       "1981                No   F     south asian       No                  No   \n",
       "1982                No   M  White European       No                  No   \n",
       "1983                No   M  Middle Eastern       No                  No   \n",
       "1984                No   M  White European       No                  No   \n",
       "\n",
       "        Who_completed_the_test ASD_traits  \n",
       "0                Family Member         No  \n",
       "1                Family Member        Yes  \n",
       "2                Family Member        Yes  \n",
       "3                Family Member        Yes  \n",
       "4                Family Member        Yes  \n",
       "...                        ...        ...  \n",
       "1980  Health Care Professional         No  \n",
       "1981  Health Care Professional         No  \n",
       "1982  Health Care Professional        Yes  \n",
       "1983  Health Care Professional         No  \n",
       "1984  Health Care Professional        Yes  \n",
       "\n",
       "[1985 rows x 28 columns]"
      ]
     },
     "execution_count": 2,
     "metadata": {},
     "output_type": "execute_result"
    }
   ],
   "source": [
    "df = pd.read_csv(\"data_csv.csv\")\n",
    "df"
   ]
  },
  {
   "cell_type": "code",
   "execution_count": 3,
   "id": "6311cdb7",
   "metadata": {},
   "outputs": [
    {
     "data": {
      "text/plain": [
       "Index(['CASE_NO_PATIENT'S', 'A1', 'A2', 'A3', 'A4', 'A5', 'A6', 'A7', 'A8',\n",
       "       'A9', 'A10_Autism_Spectrum_Quotient', 'Social_Responsiveness_Scale',\n",
       "       'Age_Years', 'Qchat_10_Score', 'Speech Delay/Language Disorder',\n",
       "       'Learning disorder', 'Genetic_Disorders', 'Depression',\n",
       "       'Global developmental delay/intellectual disability',\n",
       "       'Social/Behavioural Issues', 'Childhood Autism Rating Scale',\n",
       "       'Anxiety_disorder', 'Sex', 'Ethnicity', 'Jaundice',\n",
       "       'Family_mem_with_ASD', 'Who_completed_the_test', 'ASD_traits'],\n",
       "      dtype='object')"
      ]
     },
     "execution_count": 3,
     "metadata": {},
     "output_type": "execute_result"
    }
   ],
   "source": [
    "df.columns"
   ]
  },
  {
   "cell_type": "code",
   "execution_count": 4,
   "id": "6fef50c3",
   "metadata": {},
   "outputs": [
    {
     "name": "stdout",
     "output_type": "stream",
     "text": [
      "<class 'pandas.core.frame.DataFrame'>\n",
      "RangeIndex: 1985 entries, 0 to 1984\n",
      "Data columns (total 28 columns):\n",
      " #   Column                                              Non-Null Count  Dtype  \n",
      "---  ------                                              --------------  -----  \n",
      " 0   CASE_NO_PATIENT'S                                   1985 non-null   int64  \n",
      " 1   A1                                                  1985 non-null   int64  \n",
      " 2   A2                                                  1985 non-null   int64  \n",
      " 3   A3                                                  1985 non-null   int64  \n",
      " 4   A4                                                  1985 non-null   int64  \n",
      " 5   A5                                                  1985 non-null   int64  \n",
      " 6   A6                                                  1985 non-null   int64  \n",
      " 7   A7                                                  1985 non-null   int64  \n",
      " 8   A8                                                  1985 non-null   int64  \n",
      " 9   A9                                                  1985 non-null   int64  \n",
      " 10  A10_Autism_Spectrum_Quotient                        1985 non-null   int64  \n",
      " 11  Social_Responsiveness_Scale                         1976 non-null   float64\n",
      " 12  Age_Years                                           1985 non-null   int64  \n",
      " 13  Qchat_10_Score                                      1946 non-null   float64\n",
      " 14  Speech Delay/Language Disorder                      1985 non-null   object \n",
      " 15  Learning disorder                                   1985 non-null   object \n",
      " 16  Genetic_Disorders                                   1985 non-null   object \n",
      " 17  Depression                                          1984 non-null   object \n",
      " 18  Global developmental delay/intellectual disability  1985 non-null   object \n",
      " 19  Social/Behavioural Issues                           1971 non-null   object \n",
      " 20  Childhood Autism Rating Scale                       1985 non-null   int64  \n",
      " 21  Anxiety_disorder                                    1985 non-null   object \n",
      " 22  Sex                                                 1985 non-null   object \n",
      " 23  Ethnicity                                           1985 non-null   object \n",
      " 24  Jaundice                                            1985 non-null   object \n",
      " 25  Family_mem_with_ASD                                 1985 non-null   object \n",
      " 26  Who_completed_the_test                              1985 non-null   object \n",
      " 27  ASD_traits                                          1985 non-null   object \n",
      "dtypes: float64(2), int64(13), object(13)\n",
      "memory usage: 434.3+ KB\n"
     ]
    }
   ],
   "source": [
    "df.info()"
   ]
  },
  {
   "cell_type": "code",
   "execution_count": 5,
   "id": "45837c7b",
   "metadata": {
    "scrolled": false
   },
   "outputs": [
    {
     "data": {
      "text/plain": [
       "CASE_NO_PATIENT'S                                      0\n",
       "A1                                                     0\n",
       "A2                                                     0\n",
       "A3                                                     0\n",
       "A4                                                     0\n",
       "A5                                                     0\n",
       "A6                                                     0\n",
       "A7                                                     0\n",
       "A8                                                     0\n",
       "A9                                                     0\n",
       "A10_Autism_Spectrum_Quotient                           0\n",
       "Social_Responsiveness_Scale                            9\n",
       "Age_Years                                              0\n",
       "Qchat_10_Score                                        39\n",
       "Speech Delay/Language Disorder                         0\n",
       "Learning disorder                                      0\n",
       "Genetic_Disorders                                      0\n",
       "Depression                                             1\n",
       "Global developmental delay/intellectual disability     0\n",
       "Social/Behavioural Issues                             14\n",
       "Childhood Autism Rating Scale                          0\n",
       "Anxiety_disorder                                       0\n",
       "Sex                                                    0\n",
       "Ethnicity                                              0\n",
       "Jaundice                                               0\n",
       "Family_mem_with_ASD                                    0\n",
       "Who_completed_the_test                                 0\n",
       "ASD_traits                                             0\n",
       "dtype: int64"
      ]
     },
     "execution_count": 5,
     "metadata": {},
     "output_type": "execute_result"
    }
   ],
   "source": [
    "df.isna().sum()"
   ]
  },
  {
   "cell_type": "markdown",
   "id": "d460f302",
   "metadata": {},
   "source": [
    "### Handle Null Values "
   ]
  },
  {
   "cell_type": "code",
   "execution_count": 6,
   "id": "46d5e0f4",
   "metadata": {},
   "outputs": [
    {
     "data": {
      "text/plain": [
       "4.234840698869476"
      ]
     },
     "execution_count": 6,
     "metadata": {},
     "output_type": "execute_result"
    }
   ],
   "source": [
    "mean_value01 = df['Qchat_10_Score'].mean()\n",
    "mean_value01"
   ]
  },
  {
   "cell_type": "code",
   "execution_count": 7,
   "id": "27f84919",
   "metadata": {},
   "outputs": [],
   "source": [
    "# fill null values in Qchat_10_Score by its mean\n",
    "df['Qchat_10_Score'].fillna(mean_value01, inplace=True)"
   ]
  },
  {
   "cell_type": "code",
   "execution_count": 8,
   "id": "0c3f0e93",
   "metadata": {},
   "outputs": [],
   "source": [
    "# fill null values in Social_Responsiveness_Scale by its mean\n",
    "mean_value01 = df['Social_Responsiveness_Scale'].mean()\n",
    "df['Social_Responsiveness_Scale'].fillna(mean_value01, inplace=True)"
   ]
  },
  {
   "cell_type": "code",
   "execution_count": 9,
   "id": "95ea7a53",
   "metadata": {},
   "outputs": [
    {
     "data": {
      "text/plain": [
       "CASE_NO_PATIENT'S                                      0\n",
       "A1                                                     0\n",
       "A2                                                     0\n",
       "A3                                                     0\n",
       "A4                                                     0\n",
       "A5                                                     0\n",
       "A6                                                     0\n",
       "A7                                                     0\n",
       "A8                                                     0\n",
       "A9                                                     0\n",
       "A10_Autism_Spectrum_Quotient                           0\n",
       "Social_Responsiveness_Scale                            0\n",
       "Age_Years                                              0\n",
       "Qchat_10_Score                                         0\n",
       "Speech Delay/Language Disorder                         0\n",
       "Learning disorder                                      0\n",
       "Genetic_Disorders                                      0\n",
       "Depression                                             1\n",
       "Global developmental delay/intellectual disability     0\n",
       "Social/Behavioural Issues                             14\n",
       "Childhood Autism Rating Scale                          0\n",
       "Anxiety_disorder                                       0\n",
       "Sex                                                    0\n",
       "Ethnicity                                              0\n",
       "Jaundice                                               0\n",
       "Family_mem_with_ASD                                    0\n",
       "Who_completed_the_test                                 0\n",
       "ASD_traits                                             0\n",
       "dtype: int64"
      ]
     },
     "execution_count": 9,
     "metadata": {},
     "output_type": "execute_result"
    }
   ],
   "source": [
    "df.isna().sum()"
   ]
  },
  {
   "cell_type": "code",
   "execution_count": 10,
   "id": "c84bb764",
   "metadata": {},
   "outputs": [
    {
     "name": "stdout",
     "output_type": "stream",
     "text": [
      "<class 'pandas.core.frame.DataFrame'>\n",
      "RangeIndex: 1985 entries, 0 to 1984\n",
      "Data columns (total 28 columns):\n",
      " #   Column                                              Non-Null Count  Dtype  \n",
      "---  ------                                              --------------  -----  \n",
      " 0   CASE_NO_PATIENT'S                                   1985 non-null   int64  \n",
      " 1   A1                                                  1985 non-null   int64  \n",
      " 2   A2                                                  1985 non-null   int64  \n",
      " 3   A3                                                  1985 non-null   int64  \n",
      " 4   A4                                                  1985 non-null   int64  \n",
      " 5   A5                                                  1985 non-null   int64  \n",
      " 6   A6                                                  1985 non-null   int64  \n",
      " 7   A7                                                  1985 non-null   int64  \n",
      " 8   A8                                                  1985 non-null   int64  \n",
      " 9   A9                                                  1985 non-null   int64  \n",
      " 10  A10_Autism_Spectrum_Quotient                        1985 non-null   int64  \n",
      " 11  Social_Responsiveness_Scale                         1985 non-null   float64\n",
      " 12  Age_Years                                           1985 non-null   int64  \n",
      " 13  Qchat_10_Score                                      1985 non-null   float64\n",
      " 14  Speech Delay/Language Disorder                      1985 non-null   object \n",
      " 15  Learning disorder                                   1985 non-null   object \n",
      " 16  Genetic_Disorders                                   1985 non-null   object \n",
      " 17  Depression                                          1984 non-null   object \n",
      " 18  Global developmental delay/intellectual disability  1985 non-null   object \n",
      " 19  Social/Behavioural Issues                           1971 non-null   object \n",
      " 20  Childhood Autism Rating Scale                       1985 non-null   int64  \n",
      " 21  Anxiety_disorder                                    1985 non-null   object \n",
      " 22  Sex                                                 1985 non-null   object \n",
      " 23  Ethnicity                                           1985 non-null   object \n",
      " 24  Jaundice                                            1985 non-null   object \n",
      " 25  Family_mem_with_ASD                                 1985 non-null   object \n",
      " 26  Who_completed_the_test                              1985 non-null   object \n",
      " 27  ASD_traits                                          1985 non-null   object \n",
      "dtypes: float64(2), int64(13), object(13)\n",
      "memory usage: 434.3+ KB\n"
     ]
    }
   ],
   "source": [
    "df.info()"
   ]
  },
  {
   "cell_type": "code",
   "execution_count": 11,
   "id": "e4863110",
   "metadata": {},
   "outputs": [
    {
     "data": {
      "text/plain": [
       "'Yes'"
      ]
     },
     "execution_count": 11,
     "metadata": {},
     "output_type": "execute_result"
    }
   ],
   "source": [
    "# Depression as ex is a categorical data \n",
    "# we will use mode to fill null \n",
    "\n",
    "mode_value = df['Depression'].mode()[0]\n",
    "mode_value"
   ]
  },
  {
   "cell_type": "code",
   "execution_count": 12,
   "id": "e70f5c8f",
   "metadata": {},
   "outputs": [],
   "source": [
    "# fill null values in Depression by its mean\n",
    "mode_value = df['Depression'].mode()[0]\n",
    "df['Depression'].fillna(mode_value, inplace=True)"
   ]
  },
  {
   "cell_type": "code",
   "execution_count": 13,
   "id": "54ea2be2",
   "metadata": {},
   "outputs": [
    {
     "name": "stdout",
     "output_type": "stream",
     "text": [
      "<class 'pandas.core.frame.DataFrame'>\n",
      "RangeIndex: 1985 entries, 0 to 1984\n",
      "Data columns (total 28 columns):\n",
      " #   Column                                              Non-Null Count  Dtype  \n",
      "---  ------                                              --------------  -----  \n",
      " 0   CASE_NO_PATIENT'S                                   1985 non-null   int64  \n",
      " 1   A1                                                  1985 non-null   int64  \n",
      " 2   A2                                                  1985 non-null   int64  \n",
      " 3   A3                                                  1985 non-null   int64  \n",
      " 4   A4                                                  1985 non-null   int64  \n",
      " 5   A5                                                  1985 non-null   int64  \n",
      " 6   A6                                                  1985 non-null   int64  \n",
      " 7   A7                                                  1985 non-null   int64  \n",
      " 8   A8                                                  1985 non-null   int64  \n",
      " 9   A9                                                  1985 non-null   int64  \n",
      " 10  A10_Autism_Spectrum_Quotient                        1985 non-null   int64  \n",
      " 11  Social_Responsiveness_Scale                         1985 non-null   float64\n",
      " 12  Age_Years                                           1985 non-null   int64  \n",
      " 13  Qchat_10_Score                                      1985 non-null   float64\n",
      " 14  Speech Delay/Language Disorder                      1985 non-null   object \n",
      " 15  Learning disorder                                   1985 non-null   object \n",
      " 16  Genetic_Disorders                                   1985 non-null   object \n",
      " 17  Depression                                          1985 non-null   object \n",
      " 18  Global developmental delay/intellectual disability  1985 non-null   object \n",
      " 19  Social/Behavioural Issues                           1971 non-null   object \n",
      " 20  Childhood Autism Rating Scale                       1985 non-null   int64  \n",
      " 21  Anxiety_disorder                                    1985 non-null   object \n",
      " 22  Sex                                                 1985 non-null   object \n",
      " 23  Ethnicity                                           1985 non-null   object \n",
      " 24  Jaundice                                            1985 non-null   object \n",
      " 25  Family_mem_with_ASD                                 1985 non-null   object \n",
      " 26  Who_completed_the_test                              1985 non-null   object \n",
      " 27  ASD_traits                                          1985 non-null   object \n",
      "dtypes: float64(2), int64(13), object(13)\n",
      "memory usage: 434.3+ KB\n"
     ]
    }
   ],
   "source": [
    "df.info()"
   ]
  },
  {
   "cell_type": "code",
   "execution_count": 14,
   "id": "db8e9f03",
   "metadata": {},
   "outputs": [],
   "source": [
    "# fill null values in Social/Behavioural Issues by its mean\n",
    "mode_value = df['Social/Behavioural Issues'].mode()[0]\n",
    "df['Social/Behavioural Issues'].fillna(mode_value, inplace=True)\n"
   ]
  },
  {
   "cell_type": "code",
   "execution_count": 15,
   "id": "dc44bb4b",
   "metadata": {},
   "outputs": [
    {
     "name": "stdout",
     "output_type": "stream",
     "text": [
      "<class 'pandas.core.frame.DataFrame'>\n",
      "RangeIndex: 1985 entries, 0 to 1984\n",
      "Data columns (total 28 columns):\n",
      " #   Column                                              Non-Null Count  Dtype  \n",
      "---  ------                                              --------------  -----  \n",
      " 0   CASE_NO_PATIENT'S                                   1985 non-null   int64  \n",
      " 1   A1                                                  1985 non-null   int64  \n",
      " 2   A2                                                  1985 non-null   int64  \n",
      " 3   A3                                                  1985 non-null   int64  \n",
      " 4   A4                                                  1985 non-null   int64  \n",
      " 5   A5                                                  1985 non-null   int64  \n",
      " 6   A6                                                  1985 non-null   int64  \n",
      " 7   A7                                                  1985 non-null   int64  \n",
      " 8   A8                                                  1985 non-null   int64  \n",
      " 9   A9                                                  1985 non-null   int64  \n",
      " 10  A10_Autism_Spectrum_Quotient                        1985 non-null   int64  \n",
      " 11  Social_Responsiveness_Scale                         1985 non-null   float64\n",
      " 12  Age_Years                                           1985 non-null   int64  \n",
      " 13  Qchat_10_Score                                      1985 non-null   float64\n",
      " 14  Speech Delay/Language Disorder                      1985 non-null   object \n",
      " 15  Learning disorder                                   1985 non-null   object \n",
      " 16  Genetic_Disorders                                   1985 non-null   object \n",
      " 17  Depression                                          1985 non-null   object \n",
      " 18  Global developmental delay/intellectual disability  1985 non-null   object \n",
      " 19  Social/Behavioural Issues                           1985 non-null   object \n",
      " 20  Childhood Autism Rating Scale                       1985 non-null   int64  \n",
      " 21  Anxiety_disorder                                    1985 non-null   object \n",
      " 22  Sex                                                 1985 non-null   object \n",
      " 23  Ethnicity                                           1985 non-null   object \n",
      " 24  Jaundice                                            1985 non-null   object \n",
      " 25  Family_mem_with_ASD                                 1985 non-null   object \n",
      " 26  Who_completed_the_test                              1985 non-null   object \n",
      " 27  ASD_traits                                          1985 non-null   object \n",
      "dtypes: float64(2), int64(13), object(13)\n",
      "memory usage: 434.3+ KB\n"
     ]
    }
   ],
   "source": [
    "df.info()"
   ]
  },
  {
   "cell_type": "code",
   "execution_count": 16,
   "id": "2bfd3bb5",
   "metadata": {},
   "outputs": [
    {
     "data": {
      "text/plain": [
       "CASE_NO_PATIENT'S                                     0\n",
       "A1                                                    0\n",
       "A2                                                    0\n",
       "A3                                                    0\n",
       "A4                                                    0\n",
       "A5                                                    0\n",
       "A6                                                    0\n",
       "A7                                                    0\n",
       "A8                                                    0\n",
       "A9                                                    0\n",
       "A10_Autism_Spectrum_Quotient                          0\n",
       "Social_Responsiveness_Scale                           0\n",
       "Age_Years                                             0\n",
       "Qchat_10_Score                                        0\n",
       "Speech Delay/Language Disorder                        0\n",
       "Learning disorder                                     0\n",
       "Genetic_Disorders                                     0\n",
       "Depression                                            0\n",
       "Global developmental delay/intellectual disability    0\n",
       "Social/Behavioural Issues                             0\n",
       "Childhood Autism Rating Scale                         0\n",
       "Anxiety_disorder                                      0\n",
       "Sex                                                   0\n",
       "Ethnicity                                             0\n",
       "Jaundice                                              0\n",
       "Family_mem_with_ASD                                   0\n",
       "Who_completed_the_test                                0\n",
       "ASD_traits                                            0\n",
       "dtype: int64"
      ]
     },
     "execution_count": 16,
     "metadata": {},
     "output_type": "execute_result"
    }
   ],
   "source": [
    "df.isna().sum()"
   ]
  },
  {
   "cell_type": "markdown",
   "id": "c5772521",
   "metadata": {},
   "source": [
    "## Split DF To Features And Target"
   ]
  },
  {
   "cell_type": "code",
   "execution_count": 17,
   "id": "bbcba451",
   "metadata": {},
   "outputs": [],
   "source": [
    "x = df.iloc[: , :-1]\n",
    "y = df.iloc[: ,-1]"
   ]
  },
  {
   "cell_type": "code",
   "execution_count": 18,
   "id": "d712d690",
   "metadata": {},
   "outputs": [
    {
     "data": {
      "text/html": [
       "<div>\n",
       "<style scoped>\n",
       "    .dataframe tbody tr th:only-of-type {\n",
       "        vertical-align: middle;\n",
       "    }\n",
       "\n",
       "    .dataframe tbody tr th {\n",
       "        vertical-align: top;\n",
       "    }\n",
       "\n",
       "    .dataframe thead th {\n",
       "        text-align: right;\n",
       "    }\n",
       "</style>\n",
       "<table border=\"1\" class=\"dataframe\">\n",
       "  <thead>\n",
       "    <tr style=\"text-align: right;\">\n",
       "      <th></th>\n",
       "      <th>CASE_NO_PATIENT'S</th>\n",
       "      <th>A1</th>\n",
       "      <th>A2</th>\n",
       "      <th>A3</th>\n",
       "      <th>A4</th>\n",
       "      <th>A5</th>\n",
       "      <th>A6</th>\n",
       "      <th>A7</th>\n",
       "      <th>A8</th>\n",
       "      <th>A9</th>\n",
       "      <th>...</th>\n",
       "      <th>Depression</th>\n",
       "      <th>Global developmental delay/intellectual disability</th>\n",
       "      <th>Social/Behavioural Issues</th>\n",
       "      <th>Childhood Autism Rating Scale</th>\n",
       "      <th>Anxiety_disorder</th>\n",
       "      <th>Sex</th>\n",
       "      <th>Ethnicity</th>\n",
       "      <th>Jaundice</th>\n",
       "      <th>Family_mem_with_ASD</th>\n",
       "      <th>Who_completed_the_test</th>\n",
       "    </tr>\n",
       "  </thead>\n",
       "  <tbody>\n",
       "    <tr>\n",
       "      <th>0</th>\n",
       "      <td>1</td>\n",
       "      <td>0</td>\n",
       "      <td>0</td>\n",
       "      <td>0</td>\n",
       "      <td>0</td>\n",
       "      <td>0</td>\n",
       "      <td>0</td>\n",
       "      <td>1</td>\n",
       "      <td>1</td>\n",
       "      <td>0</td>\n",
       "      <td>...</td>\n",
       "      <td>Yes</td>\n",
       "      <td>Yes</td>\n",
       "      <td>Yes</td>\n",
       "      <td>1</td>\n",
       "      <td>Yes</td>\n",
       "      <td>F</td>\n",
       "      <td>middle eastern</td>\n",
       "      <td>Yes</td>\n",
       "      <td>No</td>\n",
       "      <td>Family Member</td>\n",
       "    </tr>\n",
       "    <tr>\n",
       "      <th>1</th>\n",
       "      <td>2</td>\n",
       "      <td>1</td>\n",
       "      <td>1</td>\n",
       "      <td>0</td>\n",
       "      <td>0</td>\n",
       "      <td>0</td>\n",
       "      <td>1</td>\n",
       "      <td>1</td>\n",
       "      <td>0</td>\n",
       "      <td>0</td>\n",
       "      <td>...</td>\n",
       "      <td>Yes</td>\n",
       "      <td>Yes</td>\n",
       "      <td>Yes</td>\n",
       "      <td>2</td>\n",
       "      <td>Yes</td>\n",
       "      <td>M</td>\n",
       "      <td>White European</td>\n",
       "      <td>Yes</td>\n",
       "      <td>No</td>\n",
       "      <td>Family Member</td>\n",
       "    </tr>\n",
       "    <tr>\n",
       "      <th>2</th>\n",
       "      <td>3</td>\n",
       "      <td>1</td>\n",
       "      <td>0</td>\n",
       "      <td>0</td>\n",
       "      <td>0</td>\n",
       "      <td>0</td>\n",
       "      <td>0</td>\n",
       "      <td>1</td>\n",
       "      <td>1</td>\n",
       "      <td>0</td>\n",
       "      <td>...</td>\n",
       "      <td>Yes</td>\n",
       "      <td>Yes</td>\n",
       "      <td>Yes</td>\n",
       "      <td>4</td>\n",
       "      <td>Yes</td>\n",
       "      <td>M</td>\n",
       "      <td>Middle Eastern</td>\n",
       "      <td>Yes</td>\n",
       "      <td>No</td>\n",
       "      <td>Family Member</td>\n",
       "    </tr>\n",
       "    <tr>\n",
       "      <th>3</th>\n",
       "      <td>4</td>\n",
       "      <td>1</td>\n",
       "      <td>1</td>\n",
       "      <td>1</td>\n",
       "      <td>1</td>\n",
       "      <td>1</td>\n",
       "      <td>1</td>\n",
       "      <td>1</td>\n",
       "      <td>1</td>\n",
       "      <td>1</td>\n",
       "      <td>...</td>\n",
       "      <td>Yes</td>\n",
       "      <td>Yes</td>\n",
       "      <td>Yes</td>\n",
       "      <td>2</td>\n",
       "      <td>Yes</td>\n",
       "      <td>M</td>\n",
       "      <td>Hispanic</td>\n",
       "      <td>No</td>\n",
       "      <td>No</td>\n",
       "      <td>Family Member</td>\n",
       "    </tr>\n",
       "    <tr>\n",
       "      <th>4</th>\n",
       "      <td>5</td>\n",
       "      <td>1</td>\n",
       "      <td>1</td>\n",
       "      <td>0</td>\n",
       "      <td>1</td>\n",
       "      <td>1</td>\n",
       "      <td>1</td>\n",
       "      <td>1</td>\n",
       "      <td>1</td>\n",
       "      <td>1</td>\n",
       "      <td>...</td>\n",
       "      <td>Yes</td>\n",
       "      <td>Yes</td>\n",
       "      <td>Yes</td>\n",
       "      <td>1</td>\n",
       "      <td>Yes</td>\n",
       "      <td>F</td>\n",
       "      <td>White European</td>\n",
       "      <td>No</td>\n",
       "      <td>No</td>\n",
       "      <td>Family Member</td>\n",
       "    </tr>\n",
       "    <tr>\n",
       "      <th>...</th>\n",
       "      <td>...</td>\n",
       "      <td>...</td>\n",
       "      <td>...</td>\n",
       "      <td>...</td>\n",
       "      <td>...</td>\n",
       "      <td>...</td>\n",
       "      <td>...</td>\n",
       "      <td>...</td>\n",
       "      <td>...</td>\n",
       "      <td>...</td>\n",
       "      <td>...</td>\n",
       "      <td>...</td>\n",
       "      <td>...</td>\n",
       "      <td>...</td>\n",
       "      <td>...</td>\n",
       "      <td>...</td>\n",
       "      <td>...</td>\n",
       "      <td>...</td>\n",
       "      <td>...</td>\n",
       "      <td>...</td>\n",
       "      <td>...</td>\n",
       "    </tr>\n",
       "    <tr>\n",
       "      <th>1980</th>\n",
       "      <td>1981</td>\n",
       "      <td>0</td>\n",
       "      <td>0</td>\n",
       "      <td>0</td>\n",
       "      <td>0</td>\n",
       "      <td>0</td>\n",
       "      <td>0</td>\n",
       "      <td>0</td>\n",
       "      <td>0</td>\n",
       "      <td>0</td>\n",
       "      <td>...</td>\n",
       "      <td>No</td>\n",
       "      <td>No</td>\n",
       "      <td>No</td>\n",
       "      <td>1</td>\n",
       "      <td>No</td>\n",
       "      <td>M</td>\n",
       "      <td>Middle Eastern</td>\n",
       "      <td>No</td>\n",
       "      <td>No</td>\n",
       "      <td>Health Care Professional</td>\n",
       "    </tr>\n",
       "    <tr>\n",
       "      <th>1981</th>\n",
       "      <td>1982</td>\n",
       "      <td>0</td>\n",
       "      <td>0</td>\n",
       "      <td>0</td>\n",
       "      <td>0</td>\n",
       "      <td>0</td>\n",
       "      <td>0</td>\n",
       "      <td>0</td>\n",
       "      <td>0</td>\n",
       "      <td>0</td>\n",
       "      <td>...</td>\n",
       "      <td>No</td>\n",
       "      <td>No</td>\n",
       "      <td>No</td>\n",
       "      <td>1</td>\n",
       "      <td>No</td>\n",
       "      <td>F</td>\n",
       "      <td>south asian</td>\n",
       "      <td>No</td>\n",
       "      <td>No</td>\n",
       "      <td>Health Care Professional</td>\n",
       "    </tr>\n",
       "    <tr>\n",
       "      <th>1982</th>\n",
       "      <td>1983</td>\n",
       "      <td>0</td>\n",
       "      <td>0</td>\n",
       "      <td>0</td>\n",
       "      <td>0</td>\n",
       "      <td>0</td>\n",
       "      <td>0</td>\n",
       "      <td>0</td>\n",
       "      <td>0</td>\n",
       "      <td>0</td>\n",
       "      <td>...</td>\n",
       "      <td>No</td>\n",
       "      <td>No</td>\n",
       "      <td>No</td>\n",
       "      <td>1</td>\n",
       "      <td>No</td>\n",
       "      <td>M</td>\n",
       "      <td>White European</td>\n",
       "      <td>No</td>\n",
       "      <td>No</td>\n",
       "      <td>Health Care Professional</td>\n",
       "    </tr>\n",
       "    <tr>\n",
       "      <th>1983</th>\n",
       "      <td>1984</td>\n",
       "      <td>0</td>\n",
       "      <td>0</td>\n",
       "      <td>0</td>\n",
       "      <td>0</td>\n",
       "      <td>0</td>\n",
       "      <td>0</td>\n",
       "      <td>0</td>\n",
       "      <td>0</td>\n",
       "      <td>0</td>\n",
       "      <td>...</td>\n",
       "      <td>No</td>\n",
       "      <td>No</td>\n",
       "      <td>No</td>\n",
       "      <td>1</td>\n",
       "      <td>No</td>\n",
       "      <td>M</td>\n",
       "      <td>Middle Eastern</td>\n",
       "      <td>No</td>\n",
       "      <td>No</td>\n",
       "      <td>Health Care Professional</td>\n",
       "    </tr>\n",
       "    <tr>\n",
       "      <th>1984</th>\n",
       "      <td>1985</td>\n",
       "      <td>0</td>\n",
       "      <td>0</td>\n",
       "      <td>0</td>\n",
       "      <td>0</td>\n",
       "      <td>0</td>\n",
       "      <td>0</td>\n",
       "      <td>0</td>\n",
       "      <td>0</td>\n",
       "      <td>0</td>\n",
       "      <td>...</td>\n",
       "      <td>No</td>\n",
       "      <td>No</td>\n",
       "      <td>No</td>\n",
       "      <td>1</td>\n",
       "      <td>No</td>\n",
       "      <td>M</td>\n",
       "      <td>White European</td>\n",
       "      <td>No</td>\n",
       "      <td>No</td>\n",
       "      <td>Health Care Professional</td>\n",
       "    </tr>\n",
       "  </tbody>\n",
       "</table>\n",
       "<p>1985 rows × 27 columns</p>\n",
       "</div>"
      ],
      "text/plain": [
       "      CASE_NO_PATIENT'S  A1  A2  A3  A4  A5  A6  A7  A8  A9  ...  Depression  \\\n",
       "0                     1   0   0   0   0   0   0   1   1   0  ...         Yes   \n",
       "1                     2   1   1   0   0   0   1   1   0   0  ...         Yes   \n",
       "2                     3   1   0   0   0   0   0   1   1   0  ...         Yes   \n",
       "3                     4   1   1   1   1   1   1   1   1   1  ...         Yes   \n",
       "4                     5   1   1   0   1   1   1   1   1   1  ...         Yes   \n",
       "...                 ...  ..  ..  ..  ..  ..  ..  ..  ..  ..  ...         ...   \n",
       "1980               1981   0   0   0   0   0   0   0   0   0  ...          No   \n",
       "1981               1982   0   0   0   0   0   0   0   0   0  ...          No   \n",
       "1982               1983   0   0   0   0   0   0   0   0   0  ...          No   \n",
       "1983               1984   0   0   0   0   0   0   0   0   0  ...          No   \n",
       "1984               1985   0   0   0   0   0   0   0   0   0  ...          No   \n",
       "\n",
       "      Global developmental delay/intellectual disability  \\\n",
       "0                                                   Yes    \n",
       "1                                                   Yes    \n",
       "2                                                   Yes    \n",
       "3                                                   Yes    \n",
       "4                                                   Yes    \n",
       "...                                                 ...    \n",
       "1980                                                 No    \n",
       "1981                                                 No    \n",
       "1982                                                 No    \n",
       "1983                                                 No    \n",
       "1984                                                 No    \n",
       "\n",
       "      Social/Behavioural Issues  Childhood Autism Rating Scale  \\\n",
       "0                           Yes                              1   \n",
       "1                           Yes                              2   \n",
       "2                           Yes                              4   \n",
       "3                           Yes                              2   \n",
       "4                           Yes                              1   \n",
       "...                         ...                            ...   \n",
       "1980                         No                              1   \n",
       "1981                         No                              1   \n",
       "1982                         No                              1   \n",
       "1983                         No                              1   \n",
       "1984                         No                              1   \n",
       "\n",
       "     Anxiety_disorder Sex       Ethnicity Jaundice Family_mem_with_ASD  \\\n",
       "0                 Yes   F  middle eastern      Yes                  No   \n",
       "1                 Yes   M  White European      Yes                  No   \n",
       "2                 Yes   M  Middle Eastern      Yes                  No   \n",
       "3                 Yes   M        Hispanic       No                  No   \n",
       "4                 Yes   F  White European       No                  No   \n",
       "...               ...  ..             ...      ...                 ...   \n",
       "1980               No   M  Middle Eastern       No                  No   \n",
       "1981               No   F     south asian       No                  No   \n",
       "1982               No   M  White European       No                  No   \n",
       "1983               No   M  Middle Eastern       No                  No   \n",
       "1984               No   M  White European       No                  No   \n",
       "\n",
       "        Who_completed_the_test  \n",
       "0                Family Member  \n",
       "1                Family Member  \n",
       "2                Family Member  \n",
       "3                Family Member  \n",
       "4                Family Member  \n",
       "...                        ...  \n",
       "1980  Health Care Professional  \n",
       "1981  Health Care Professional  \n",
       "1982  Health Care Professional  \n",
       "1983  Health Care Professional  \n",
       "1984  Health Care Professional  \n",
       "\n",
       "[1985 rows x 27 columns]"
      ]
     },
     "execution_count": 18,
     "metadata": {},
     "output_type": "execute_result"
    }
   ],
   "source": [
    "x"
   ]
  },
  {
   "cell_type": "code",
   "execution_count": 19,
   "id": "b9ad0b35",
   "metadata": {
    "scrolled": true
   },
   "outputs": [
    {
     "data": {
      "text/plain": [
       "0        No\n",
       "1       Yes\n",
       "2       Yes\n",
       "3       Yes\n",
       "4       Yes\n",
       "       ... \n",
       "1980     No\n",
       "1981     No\n",
       "1982    Yes\n",
       "1983     No\n",
       "1984    Yes\n",
       "Name: ASD_traits, Length: 1985, dtype: object"
      ]
     },
     "execution_count": 19,
     "metadata": {},
     "output_type": "execute_result"
    }
   ],
   "source": [
    "y"
   ]
  },
  {
   "cell_type": "markdown",
   "id": "4101be46",
   "metadata": {},
   "source": [
    "## Categorical to numerical using 1-hot-encoder"
   ]
  },
  {
   "cell_type": "code",
   "execution_count": 20,
   "id": "798eb034",
   "metadata": {},
   "outputs": [],
   "source": [
    "# Categorical to numerical using 1-hot-encoder\n",
    "from sklearn.compose import ColumnTransformer\n",
    "from sklearn.preprocessing import OneHotEncoder\n",
    "\n",
    "categorical_columns_indecies = [14, 15, 16, 17, 18, 19, 21, 22, 23, 24, 25, 26 ]\n",
    "ct = ColumnTransformer(transformers = [('encoder', OneHotEncoder(), categorical_columns_indecies )], remainder='passthrough')\n",
    "x=np.array(ct.fit_transform(x))"
   ]
  },
  {
   "cell_type": "code",
   "execution_count": 21,
   "id": "81c334ee",
   "metadata": {},
   "outputs": [
    {
     "data": {
      "text/plain": [
       "array([[ 0.,  1.,  0., ...,  2.,  3.,  1.],\n",
       "       [ 0.,  1.,  0., ...,  3.,  4.,  2.],\n",
       "       [ 0.,  1.,  0., ...,  3.,  4.,  4.],\n",
       "       ...,\n",
       "       [ 1.,  0.,  1., ...,  7.,  6.,  1.],\n",
       "       [ 1.,  0.,  1., ..., 14.,  0.,  1.],\n",
       "       [ 1.,  0.,  1., ...,  7.,  6.,  1.]])"
      ]
     },
     "execution_count": 21,
     "metadata": {},
     "output_type": "execute_result"
    }
   ],
   "source": [
    "x"
   ]
  },
  {
   "cell_type": "markdown",
   "id": "ce87274e",
   "metadata": {},
   "source": [
    "### Applying Standerdization "
   ]
  },
  {
   "cell_type": "code",
   "execution_count": 22,
   "id": "65ecc9c6",
   "metadata": {},
   "outputs": [],
   "source": [
    "from sklearn.preprocessing import StandardScaler\n",
    "s = StandardScaler()\n",
    "x_std = s.fit_transform(x)"
   ]
  },
  {
   "cell_type": "code",
   "execution_count": 23,
   "id": "63bf022b",
   "metadata": {},
   "outputs": [
    {
     "data": {
      "text/plain": [
       "array([[-0.93699332,  0.93699332, -0.92006067,  0.92006067, -0.97955406,\n",
       "         0.97955406, -0.93889115,  0.93889115, -0.93984132,  0.93984132,\n",
       "        -0.93984132,  0.93984132, -0.9426969 ,  0.9426969 ,  1.63999728,\n",
       "        -1.63999728, -0.49606107, -0.15230192, -0.14340695, -0.1152045 ,\n",
       "        -0.47227507, -0.05948889, -0.0389053 , -0.13397283, -0.06361238,\n",
       "        -0.15909091, -0.61831382, -0.34670327, -0.06361238,  6.8858285 ,\n",
       "        -0.02245066, -0.34028722, -0.54066414,  0.54066414,  0.70177005,\n",
       "        -0.70177005,  1.42011173, -0.17348948, -1.28047946, -0.0389053 ,\n",
       "        -0.12176279, -0.04493531, -1.73117846, -0.65347602, -0.55931269,\n",
       "        -0.52039087, -0.61131205, -0.62142834, -0.66448445,  1.37761033,\n",
       "         1.76103369, -0.59267138,  1.1137353 , -0.02026508, -1.77263353,\n",
       "        -0.43042355, -0.69131675],\n",
       "       [-0.93699332,  0.93699332, -0.92006067,  0.92006067, -0.97955406,\n",
       "         0.97955406, -0.93889115,  0.93889115, -0.93984132,  0.93984132,\n",
       "        -0.93984132,  0.93984132, -0.9426969 ,  0.9426969 , -0.60975711,\n",
       "         0.60975711, -0.49606107, -0.15230192, -0.14340695, -0.1152045 ,\n",
       "        -0.47227507, -0.05948889, -0.0389053 , -0.13397283, -0.06361238,\n",
       "        -0.15909091,  1.61730172, -0.34670327, -0.06361238, -0.14522581,\n",
       "        -0.02245066, -0.34028722, -0.54066414,  0.54066414,  0.70177005,\n",
       "        -0.70177005,  1.42011173, -0.17348948, -1.28047946, -0.0389053 ,\n",
       "        -0.12176279, -0.04493531, -1.72943332,  1.53027803,  1.78790865,\n",
       "        -0.52039087, -0.61131205, -0.62142834,  1.50492612,  1.37761033,\n",
       "        -0.56784831, -0.59267138, -0.89787941,  0.79695513, -1.5401474 ,\n",
       "        -0.0818575 ,  0.29379721],\n",
       "       [-0.93699332,  0.93699332, -0.92006067,  0.92006067, -0.97955406,\n",
       "         0.97955406, -0.93889115,  0.93889115, -0.93984132,  0.93984132,\n",
       "        -0.93984132,  0.93984132, -0.9426969 ,  0.9426969 , -0.60975711,\n",
       "         0.60975711, -0.49606107, -0.15230192, -0.14340695, -0.1152045 ,\n",
       "         2.11741007, -0.05948889, -0.0389053 , -0.13397283, -0.06361238,\n",
       "        -0.15909091, -0.61831382, -0.34670327, -0.06361238, -0.14522581,\n",
       "        -0.02245066, -0.34028722, -0.54066414,  0.54066414,  0.70177005,\n",
       "        -0.70177005,  1.42011173, -0.17348948, -1.28047946, -0.0389053 ,\n",
       "        -0.12176279, -0.04493531, -1.72768818,  1.53027803, -0.55931269,\n",
       "        -0.52039087, -0.61131205, -0.62142834, -0.66448445,  1.37761033,\n",
       "         1.76103369, -0.59267138,  1.1137353 ,  1.06936186, -1.5401474 ,\n",
       "        -0.0818575 ,  2.26402515],\n",
       "       [-0.93699332,  0.93699332, -0.92006067,  0.92006067,  1.0208727 ,\n",
       "        -1.0208727 , -0.93889115,  0.93889115, -0.93984132,  0.93984132,\n",
       "        -0.93984132,  0.93984132, -0.9426969 ,  0.9426969 , -0.60975711,\n",
       "         0.60975711, -0.49606107, -0.15230192,  6.97316284, -0.1152045 ,\n",
       "        -0.47227507, -0.05948889, -0.0389053 , -0.13397283, -0.06361238,\n",
       "        -0.15909091, -0.61831382, -0.34670327, -0.06361238, -0.14522581,\n",
       "        -0.02245066, -0.34028722,  1.84957709, -1.84957709,  0.70177005,\n",
       "        -0.70177005,  1.42011173, -0.17348948, -1.28047946, -0.0389053 ,\n",
       "        -0.12176279, -0.04493531, -1.72594304,  1.53027803,  1.78790865,\n",
       "         1.92163248,  1.63582576,  1.609196  ,  1.50492612,  1.37761033,\n",
       "         1.76103369,  1.68727568,  1.1137353 , -0.56507855, -1.77263353,\n",
       "         2.00953884,  0.29379721],\n",
       "       [-0.93699332,  0.93699332, -0.92006067,  0.92006067,  1.0208727 ,\n",
       "        -1.0208727 , -0.93889115,  0.93889115, -0.93984132,  0.93984132,\n",
       "        -0.93984132,  0.93984132, -0.9426969 ,  0.9426969 ,  1.63999728,\n",
       "        -1.63999728, -0.49606107, -0.15230192, -0.14340695, -0.1152045 ,\n",
       "        -0.47227507, -0.05948889, -0.0389053 , -0.13397283, -0.06361238,\n",
       "        -0.15909091,  1.61730172, -0.34670327, -0.06361238, -0.14522581,\n",
       "        -0.02245066, -0.34028722,  1.84957709, -1.84957709,  0.70177005,\n",
       "        -0.70177005,  1.42011173, -0.17348948, -1.28047946, -0.0389053 ,\n",
       "        -0.12176279, -0.04493531, -1.7241979 ,  1.53027803,  1.78790865,\n",
       "        -0.52039087,  1.63582576,  1.609196  ,  1.50492612,  1.37761033,\n",
       "         1.76103369,  1.68727568,  1.1137353 , -0.02026508, -1.77263353,\n",
       "         1.66097278, -0.69131675]])"
      ]
     },
     "execution_count": 23,
     "metadata": {},
     "output_type": "execute_result"
    }
   ],
   "source": [
    "x_std[:5]  #x.head()"
   ]
  },
  {
   "cell_type": "markdown",
   "id": "a6b4db25",
   "metadata": {},
   "source": [
    "### Split data into train and test"
   ]
  },
  {
   "cell_type": "code",
   "execution_count": 24,
   "id": "1ff7d989",
   "metadata": {},
   "outputs": [],
   "source": [
    "from sklearn.model_selection import train_test_split\n",
    "x_train, x_test, y_train, y_test = train_test_split(x_std, y, test_size=0.23, random_state=2)"
   ]
  },
  {
   "cell_type": "code",
   "execution_count": null,
   "id": "b9b10b17",
   "metadata": {},
   "outputs": [],
   "source": []
  },
  {
   "cell_type": "markdown",
   "id": "dea3d576",
   "metadata": {},
   "source": [
    "### Training The Random Frest Model On The Training Set"
   ]
  },
  {
   "cell_type": "code",
   "execution_count": 25,
   "id": "8f074810",
   "metadata": {},
   "outputs": [],
   "source": [
    "from sklearn.ensemble import RandomForestClassifier\n",
    "\n",
    "classifier_rf = RandomForestClassifier(random_state=42, n_jobs=-1, max_depth=5,\n",
    "                                       n_estimators=100, oob_score=True)"
   ]
  },
  {
   "cell_type": "code",
   "execution_count": 26,
   "id": "b01d0f61",
   "metadata": {},
   "outputs": [
    {
     "data": {
      "text/html": [
       "<style>#sk-container-id-1 {color: black;}#sk-container-id-1 pre{padding: 0;}#sk-container-id-1 div.sk-toggleable {background-color: white;}#sk-container-id-1 label.sk-toggleable__label {cursor: pointer;display: block;width: 100%;margin-bottom: 0;padding: 0.3em;box-sizing: border-box;text-align: center;}#sk-container-id-1 label.sk-toggleable__label-arrow:before {content: \"▸\";float: left;margin-right: 0.25em;color: #696969;}#sk-container-id-1 label.sk-toggleable__label-arrow:hover:before {color: black;}#sk-container-id-1 div.sk-estimator:hover label.sk-toggleable__label-arrow:before {color: black;}#sk-container-id-1 div.sk-toggleable__content {max-height: 0;max-width: 0;overflow: hidden;text-align: left;background-color: #f0f8ff;}#sk-container-id-1 div.sk-toggleable__content pre {margin: 0.2em;color: black;border-radius: 0.25em;background-color: #f0f8ff;}#sk-container-id-1 input.sk-toggleable__control:checked~div.sk-toggleable__content {max-height: 200px;max-width: 100%;overflow: auto;}#sk-container-id-1 input.sk-toggleable__control:checked~label.sk-toggleable__label-arrow:before {content: \"▾\";}#sk-container-id-1 div.sk-estimator input.sk-toggleable__control:checked~label.sk-toggleable__label {background-color: #d4ebff;}#sk-container-id-1 div.sk-label input.sk-toggleable__control:checked~label.sk-toggleable__label {background-color: #d4ebff;}#sk-container-id-1 input.sk-hidden--visually {border: 0;clip: rect(1px 1px 1px 1px);clip: rect(1px, 1px, 1px, 1px);height: 1px;margin: -1px;overflow: hidden;padding: 0;position: absolute;width: 1px;}#sk-container-id-1 div.sk-estimator {font-family: monospace;background-color: #f0f8ff;border: 1px dotted black;border-radius: 0.25em;box-sizing: border-box;margin-bottom: 0.5em;}#sk-container-id-1 div.sk-estimator:hover {background-color: #d4ebff;}#sk-container-id-1 div.sk-parallel-item::after {content: \"\";width: 100%;border-bottom: 1px solid gray;flex-grow: 1;}#sk-container-id-1 div.sk-label:hover label.sk-toggleable__label {background-color: #d4ebff;}#sk-container-id-1 div.sk-serial::before {content: \"\";position: absolute;border-left: 1px solid gray;box-sizing: border-box;top: 0;bottom: 0;left: 50%;z-index: 0;}#sk-container-id-1 div.sk-serial {display: flex;flex-direction: column;align-items: center;background-color: white;padding-right: 0.2em;padding-left: 0.2em;position: relative;}#sk-container-id-1 div.sk-item {position: relative;z-index: 1;}#sk-container-id-1 div.sk-parallel {display: flex;align-items: stretch;justify-content: center;background-color: white;position: relative;}#sk-container-id-1 div.sk-item::before, #sk-container-id-1 div.sk-parallel-item::before {content: \"\";position: absolute;border-left: 1px solid gray;box-sizing: border-box;top: 0;bottom: 0;left: 50%;z-index: -1;}#sk-container-id-1 div.sk-parallel-item {display: flex;flex-direction: column;z-index: 1;position: relative;background-color: white;}#sk-container-id-1 div.sk-parallel-item:first-child::after {align-self: flex-end;width: 50%;}#sk-container-id-1 div.sk-parallel-item:last-child::after {align-self: flex-start;width: 50%;}#sk-container-id-1 div.sk-parallel-item:only-child::after {width: 0;}#sk-container-id-1 div.sk-dashed-wrapped {border: 1px dashed gray;margin: 0 0.4em 0.5em 0.4em;box-sizing: border-box;padding-bottom: 0.4em;background-color: white;}#sk-container-id-1 div.sk-label label {font-family: monospace;font-weight: bold;display: inline-block;line-height: 1.2em;}#sk-container-id-1 div.sk-label-container {text-align: center;}#sk-container-id-1 div.sk-container {/* jupyter's `normalize.less` sets `[hidden] { display: none; }` but bootstrap.min.css set `[hidden] { display: none !important; }` so we also need the `!important` here to be able to override the default hidden behavior on the sphinx rendered scikit-learn.org. See: https://github.com/scikit-learn/scikit-learn/issues/21755 */display: inline-block !important;position: relative;}#sk-container-id-1 div.sk-text-repr-fallback {display: none;}</style><div id=\"sk-container-id-1\" class=\"sk-top-container\"><div class=\"sk-text-repr-fallback\"><pre>RandomForestClassifier(max_depth=5, n_jobs=-1, oob_score=True, random_state=42)</pre><b>In a Jupyter environment, please rerun this cell to show the HTML representation or trust the notebook. <br />On GitHub, the HTML representation is unable to render, please try loading this page with nbviewer.org.</b></div><div class=\"sk-container\" hidden><div class=\"sk-item\"><div class=\"sk-estimator sk-toggleable\"><input class=\"sk-toggleable__control sk-hidden--visually\" id=\"sk-estimator-id-1\" type=\"checkbox\" checked><label for=\"sk-estimator-id-1\" class=\"sk-toggleable__label sk-toggleable__label-arrow\">RandomForestClassifier</label><div class=\"sk-toggleable__content\"><pre>RandomForestClassifier(max_depth=5, n_jobs=-1, oob_score=True, random_state=42)</pre></div></div></div></div></div>"
      ],
      "text/plain": [
       "RandomForestClassifier(max_depth=5, n_jobs=-1, oob_score=True, random_state=42)"
      ]
     },
     "execution_count": 26,
     "metadata": {},
     "output_type": "execute_result"
    }
   ],
   "source": [
    "classifier_rf.fit(x_train, y_train)\n"
   ]
  },
  {
   "cell_type": "code",
   "execution_count": 27,
   "id": "9886e715",
   "metadata": {},
   "outputs": [
    {
     "data": {
      "text/plain": [
       "1.0"
      ]
     },
     "execution_count": 27,
     "metadata": {},
     "output_type": "execute_result"
    }
   ],
   "source": [
    "#Out-of-Bag Error Estimation: Random Forest provides an internal mechanism for estimating the model error without the need for a separate validation set. This is done using the out-of-bag (OOB) samples, which are not used in the construction of each tree.\n",
    "classifier_rf.oob_score_"
   ]
  },
  {
   "cell_type": "markdown",
   "id": "46abe015",
   "metadata": {},
   "source": [
    "### do hyperparameter tuning for Random Forest using GridSearchCV "
   ]
  },
  {
   "cell_type": "code",
   "execution_count": 29,
   "id": "9fb76393",
   "metadata": {},
   "outputs": [],
   "source": [
    "rf = RandomForestClassifier(random_state=42, n_jobs=-1)\n",
    "\n",
    "params = {\n",
    "    'max_depth': [2,3,5,10,20],\n",
    "    'min_samples_leaf': [5,10,20,50,100,200],\n",
    "    'n_estimators': [10,25,30,50,100,200]\n",
    "}\n",
    "\n",
    "from sklearn.model_selection import GridSearchCV\n",
    "\n",
    "# Instantiate the grid search model\n",
    "grid_search = GridSearchCV(estimator=rf,\n",
    "                           param_grid=params,\n",
    "                           cv = 4,\n",
    "                           n_jobs=-1, verbose=1, scoring=\"accuracy\")"
   ]
  },
  {
   "cell_type": "code",
   "execution_count": 30,
   "id": "36fe589c",
   "metadata": {},
   "outputs": [
    {
     "name": "stdout",
     "output_type": "stream",
     "text": [
      "Fitting 4 folds for each of 180 candidates, totalling 720 fits\n"
     ]
    },
    {
     "data": {
      "text/html": [
       "<style>#sk-container-id-2 {color: black;}#sk-container-id-2 pre{padding: 0;}#sk-container-id-2 div.sk-toggleable {background-color: white;}#sk-container-id-2 label.sk-toggleable__label {cursor: pointer;display: block;width: 100%;margin-bottom: 0;padding: 0.3em;box-sizing: border-box;text-align: center;}#sk-container-id-2 label.sk-toggleable__label-arrow:before {content: \"▸\";float: left;margin-right: 0.25em;color: #696969;}#sk-container-id-2 label.sk-toggleable__label-arrow:hover:before {color: black;}#sk-container-id-2 div.sk-estimator:hover label.sk-toggleable__label-arrow:before {color: black;}#sk-container-id-2 div.sk-toggleable__content {max-height: 0;max-width: 0;overflow: hidden;text-align: left;background-color: #f0f8ff;}#sk-container-id-2 div.sk-toggleable__content pre {margin: 0.2em;color: black;border-radius: 0.25em;background-color: #f0f8ff;}#sk-container-id-2 input.sk-toggleable__control:checked~div.sk-toggleable__content {max-height: 200px;max-width: 100%;overflow: auto;}#sk-container-id-2 input.sk-toggleable__control:checked~label.sk-toggleable__label-arrow:before {content: \"▾\";}#sk-container-id-2 div.sk-estimator input.sk-toggleable__control:checked~label.sk-toggleable__label {background-color: #d4ebff;}#sk-container-id-2 div.sk-label input.sk-toggleable__control:checked~label.sk-toggleable__label {background-color: #d4ebff;}#sk-container-id-2 input.sk-hidden--visually {border: 0;clip: rect(1px 1px 1px 1px);clip: rect(1px, 1px, 1px, 1px);height: 1px;margin: -1px;overflow: hidden;padding: 0;position: absolute;width: 1px;}#sk-container-id-2 div.sk-estimator {font-family: monospace;background-color: #f0f8ff;border: 1px dotted black;border-radius: 0.25em;box-sizing: border-box;margin-bottom: 0.5em;}#sk-container-id-2 div.sk-estimator:hover {background-color: #d4ebff;}#sk-container-id-2 div.sk-parallel-item::after {content: \"\";width: 100%;border-bottom: 1px solid gray;flex-grow: 1;}#sk-container-id-2 div.sk-label:hover label.sk-toggleable__label {background-color: #d4ebff;}#sk-container-id-2 div.sk-serial::before {content: \"\";position: absolute;border-left: 1px solid gray;box-sizing: border-box;top: 0;bottom: 0;left: 50%;z-index: 0;}#sk-container-id-2 div.sk-serial {display: flex;flex-direction: column;align-items: center;background-color: white;padding-right: 0.2em;padding-left: 0.2em;position: relative;}#sk-container-id-2 div.sk-item {position: relative;z-index: 1;}#sk-container-id-2 div.sk-parallel {display: flex;align-items: stretch;justify-content: center;background-color: white;position: relative;}#sk-container-id-2 div.sk-item::before, #sk-container-id-2 div.sk-parallel-item::before {content: \"\";position: absolute;border-left: 1px solid gray;box-sizing: border-box;top: 0;bottom: 0;left: 50%;z-index: -1;}#sk-container-id-2 div.sk-parallel-item {display: flex;flex-direction: column;z-index: 1;position: relative;background-color: white;}#sk-container-id-2 div.sk-parallel-item:first-child::after {align-self: flex-end;width: 50%;}#sk-container-id-2 div.sk-parallel-item:last-child::after {align-self: flex-start;width: 50%;}#sk-container-id-2 div.sk-parallel-item:only-child::after {width: 0;}#sk-container-id-2 div.sk-dashed-wrapped {border: 1px dashed gray;margin: 0 0.4em 0.5em 0.4em;box-sizing: border-box;padding-bottom: 0.4em;background-color: white;}#sk-container-id-2 div.sk-label label {font-family: monospace;font-weight: bold;display: inline-block;line-height: 1.2em;}#sk-container-id-2 div.sk-label-container {text-align: center;}#sk-container-id-2 div.sk-container {/* jupyter's `normalize.less` sets `[hidden] { display: none; }` but bootstrap.min.css set `[hidden] { display: none !important; }` so we also need the `!important` here to be able to override the default hidden behavior on the sphinx rendered scikit-learn.org. See: https://github.com/scikit-learn/scikit-learn/issues/21755 */display: inline-block !important;position: relative;}#sk-container-id-2 div.sk-text-repr-fallback {display: none;}</style><div id=\"sk-container-id-2\" class=\"sk-top-container\"><div class=\"sk-text-repr-fallback\"><pre>GridSearchCV(cv=4, estimator=RandomForestClassifier(n_jobs=-1, random_state=42),\n",
       "             n_jobs=-1,\n",
       "             param_grid={&#x27;max_depth&#x27;: [2, 3, 5, 10, 20],\n",
       "                         &#x27;min_samples_leaf&#x27;: [5, 10, 20, 50, 100, 200],\n",
       "                         &#x27;n_estimators&#x27;: [10, 25, 30, 50, 100, 200]},\n",
       "             scoring=&#x27;accuracy&#x27;, verbose=1)</pre><b>In a Jupyter environment, please rerun this cell to show the HTML representation or trust the notebook. <br />On GitHub, the HTML representation is unable to render, please try loading this page with nbviewer.org.</b></div><div class=\"sk-container\" hidden><div class=\"sk-item sk-dashed-wrapped\"><div class=\"sk-label-container\"><div class=\"sk-label sk-toggleable\"><input class=\"sk-toggleable__control sk-hidden--visually\" id=\"sk-estimator-id-2\" type=\"checkbox\" ><label for=\"sk-estimator-id-2\" class=\"sk-toggleable__label sk-toggleable__label-arrow\">GridSearchCV</label><div class=\"sk-toggleable__content\"><pre>GridSearchCV(cv=4, estimator=RandomForestClassifier(n_jobs=-1, random_state=42),\n",
       "             n_jobs=-1,\n",
       "             param_grid={&#x27;max_depth&#x27;: [2, 3, 5, 10, 20],\n",
       "                         &#x27;min_samples_leaf&#x27;: [5, 10, 20, 50, 100, 200],\n",
       "                         &#x27;n_estimators&#x27;: [10, 25, 30, 50, 100, 200]},\n",
       "             scoring=&#x27;accuracy&#x27;, verbose=1)</pre></div></div></div><div class=\"sk-parallel\"><div class=\"sk-parallel-item\"><div class=\"sk-item\"><div class=\"sk-label-container\"><div class=\"sk-label sk-toggleable\"><input class=\"sk-toggleable__control sk-hidden--visually\" id=\"sk-estimator-id-3\" type=\"checkbox\" ><label for=\"sk-estimator-id-3\" class=\"sk-toggleable__label sk-toggleable__label-arrow\">estimator: RandomForestClassifier</label><div class=\"sk-toggleable__content\"><pre>RandomForestClassifier(n_jobs=-1, random_state=42)</pre></div></div></div><div class=\"sk-serial\"><div class=\"sk-item\"><div class=\"sk-estimator sk-toggleable\"><input class=\"sk-toggleable__control sk-hidden--visually\" id=\"sk-estimator-id-4\" type=\"checkbox\" ><label for=\"sk-estimator-id-4\" class=\"sk-toggleable__label sk-toggleable__label-arrow\">RandomForestClassifier</label><div class=\"sk-toggleable__content\"><pre>RandomForestClassifier(n_jobs=-1, random_state=42)</pre></div></div></div></div></div></div></div></div></div></div>"
      ],
      "text/plain": [
       "GridSearchCV(cv=4, estimator=RandomForestClassifier(n_jobs=-1, random_state=42),\n",
       "             n_jobs=-1,\n",
       "             param_grid={'max_depth': [2, 3, 5, 10, 20],\n",
       "                         'min_samples_leaf': [5, 10, 20, 50, 100, 200],\n",
       "                         'n_estimators': [10, 25, 30, 50, 100, 200]},\n",
       "             scoring='accuracy', verbose=1)"
      ]
     },
     "execution_count": 30,
     "metadata": {},
     "output_type": "execute_result"
    }
   ],
   "source": [
    "grid_search.fit(x_train, y_train)\n"
   ]
  },
  {
   "cell_type": "code",
   "execution_count": 31,
   "id": "9553e974",
   "metadata": {},
   "outputs": [
    {
     "data": {
      "text/plain": [
       "1.0"
      ]
     },
     "execution_count": 31,
     "metadata": {},
     "output_type": "execute_result"
    }
   ],
   "source": [
    "grid_search.best_score_\n"
   ]
  },
  {
   "cell_type": "code",
   "execution_count": 32,
   "id": "d5abf641",
   "metadata": {},
   "outputs": [
    {
     "data": {
      "text/html": [
       "<style>#sk-container-id-3 {color: black;}#sk-container-id-3 pre{padding: 0;}#sk-container-id-3 div.sk-toggleable {background-color: white;}#sk-container-id-3 label.sk-toggleable__label {cursor: pointer;display: block;width: 100%;margin-bottom: 0;padding: 0.3em;box-sizing: border-box;text-align: center;}#sk-container-id-3 label.sk-toggleable__label-arrow:before {content: \"▸\";float: left;margin-right: 0.25em;color: #696969;}#sk-container-id-3 label.sk-toggleable__label-arrow:hover:before {color: black;}#sk-container-id-3 div.sk-estimator:hover label.sk-toggleable__label-arrow:before {color: black;}#sk-container-id-3 div.sk-toggleable__content {max-height: 0;max-width: 0;overflow: hidden;text-align: left;background-color: #f0f8ff;}#sk-container-id-3 div.sk-toggleable__content pre {margin: 0.2em;color: black;border-radius: 0.25em;background-color: #f0f8ff;}#sk-container-id-3 input.sk-toggleable__control:checked~div.sk-toggleable__content {max-height: 200px;max-width: 100%;overflow: auto;}#sk-container-id-3 input.sk-toggleable__control:checked~label.sk-toggleable__label-arrow:before {content: \"▾\";}#sk-container-id-3 div.sk-estimator input.sk-toggleable__control:checked~label.sk-toggleable__label {background-color: #d4ebff;}#sk-container-id-3 div.sk-label input.sk-toggleable__control:checked~label.sk-toggleable__label {background-color: #d4ebff;}#sk-container-id-3 input.sk-hidden--visually {border: 0;clip: rect(1px 1px 1px 1px);clip: rect(1px, 1px, 1px, 1px);height: 1px;margin: -1px;overflow: hidden;padding: 0;position: absolute;width: 1px;}#sk-container-id-3 div.sk-estimator {font-family: monospace;background-color: #f0f8ff;border: 1px dotted black;border-radius: 0.25em;box-sizing: border-box;margin-bottom: 0.5em;}#sk-container-id-3 div.sk-estimator:hover {background-color: #d4ebff;}#sk-container-id-3 div.sk-parallel-item::after {content: \"\";width: 100%;border-bottom: 1px solid gray;flex-grow: 1;}#sk-container-id-3 div.sk-label:hover label.sk-toggleable__label {background-color: #d4ebff;}#sk-container-id-3 div.sk-serial::before {content: \"\";position: absolute;border-left: 1px solid gray;box-sizing: border-box;top: 0;bottom: 0;left: 50%;z-index: 0;}#sk-container-id-3 div.sk-serial {display: flex;flex-direction: column;align-items: center;background-color: white;padding-right: 0.2em;padding-left: 0.2em;position: relative;}#sk-container-id-3 div.sk-item {position: relative;z-index: 1;}#sk-container-id-3 div.sk-parallel {display: flex;align-items: stretch;justify-content: center;background-color: white;position: relative;}#sk-container-id-3 div.sk-item::before, #sk-container-id-3 div.sk-parallel-item::before {content: \"\";position: absolute;border-left: 1px solid gray;box-sizing: border-box;top: 0;bottom: 0;left: 50%;z-index: -1;}#sk-container-id-3 div.sk-parallel-item {display: flex;flex-direction: column;z-index: 1;position: relative;background-color: white;}#sk-container-id-3 div.sk-parallel-item:first-child::after {align-self: flex-end;width: 50%;}#sk-container-id-3 div.sk-parallel-item:last-child::after {align-self: flex-start;width: 50%;}#sk-container-id-3 div.sk-parallel-item:only-child::after {width: 0;}#sk-container-id-3 div.sk-dashed-wrapped {border: 1px dashed gray;margin: 0 0.4em 0.5em 0.4em;box-sizing: border-box;padding-bottom: 0.4em;background-color: white;}#sk-container-id-3 div.sk-label label {font-family: monospace;font-weight: bold;display: inline-block;line-height: 1.2em;}#sk-container-id-3 div.sk-label-container {text-align: center;}#sk-container-id-3 div.sk-container {/* jupyter's `normalize.less` sets `[hidden] { display: none; }` but bootstrap.min.css set `[hidden] { display: none !important; }` so we also need the `!important` here to be able to override the default hidden behavior on the sphinx rendered scikit-learn.org. See: https://github.com/scikit-learn/scikit-learn/issues/21755 */display: inline-block !important;position: relative;}#sk-container-id-3 div.sk-text-repr-fallback {display: none;}</style><div id=\"sk-container-id-3\" class=\"sk-top-container\"><div class=\"sk-text-repr-fallback\"><pre>RandomForestClassifier(max_depth=5, min_samples_leaf=5, n_estimators=200,\n",
       "                       n_jobs=-1, random_state=42)</pre><b>In a Jupyter environment, please rerun this cell to show the HTML representation or trust the notebook. <br />On GitHub, the HTML representation is unable to render, please try loading this page with nbviewer.org.</b></div><div class=\"sk-container\" hidden><div class=\"sk-item\"><div class=\"sk-estimator sk-toggleable\"><input class=\"sk-toggleable__control sk-hidden--visually\" id=\"sk-estimator-id-5\" type=\"checkbox\" checked><label for=\"sk-estimator-id-5\" class=\"sk-toggleable__label sk-toggleable__label-arrow\">RandomForestClassifier</label><div class=\"sk-toggleable__content\"><pre>RandomForestClassifier(max_depth=5, min_samples_leaf=5, n_estimators=200,\n",
       "                       n_jobs=-1, random_state=42)</pre></div></div></div></div></div>"
      ],
      "text/plain": [
       "RandomForestClassifier(max_depth=5, min_samples_leaf=5, n_estimators=200,\n",
       "                       n_jobs=-1, random_state=42)"
      ]
     },
     "execution_count": 32,
     "metadata": {},
     "output_type": "execute_result"
    }
   ],
   "source": [
    "rf_best = grid_search.best_estimator_\n",
    "rf_best"
   ]
  },
  {
   "cell_type": "markdown",
   "id": "d76864f0",
   "metadata": {},
   "source": [
    "### Now let’s sort the data with the help of feature importance"
   ]
  },
  {
   "cell_type": "code",
   "execution_count": 33,
   "id": "31d9f832",
   "metadata": {},
   "outputs": [
    {
     "data": {
      "text/plain": [
       "array([9.65881038e-03, 5.68457910e-03, 2.82688015e-03, 3.87470282e-03,\n",
       "       4.54048528e-03, 3.79622040e-03, 1.31283551e-02, 7.29732337e-03,\n",
       "       1.23388017e-02, 8.03389307e-03, 8.54461652e-03, 6.49909113e-03,\n",
       "       1.03628750e-02, 7.95316735e-03, 4.45575630e-02, 5.45202066e-02,\n",
       "       2.86440364e-02, 2.90356627e-05, 3.06154588e-05, 9.77077004e-06,\n",
       "       4.78213339e-02, 0.00000000e+00, 0.00000000e+00, 5.51405554e-05,\n",
       "       0.00000000e+00, 3.62793500e-04, 7.99963727e-02, 9.09477348e-03,\n",
       "       1.74327590e-05, 3.11891304e-04, 0.00000000e+00, 2.21123664e-02,\n",
       "       6.31422493e-04, 8.46958423e-04, 2.14328968e-02, 1.85471862e-02,\n",
       "       1.04611997e-03, 1.18467567e-04, 6.00687503e-04, 0.00000000e+00,\n",
       "       1.64322252e-03, 0.00000000e+00, 1.92361297e-02, 3.60673476e-02,\n",
       "       2.84847678e-02, 2.05698329e-02, 3.69352558e-02, 4.67184730e-02,\n",
       "       5.31060849e-02, 7.33688387e-02, 3.58271647e-02, 6.16738707e-02,\n",
       "       5.03969354e-03, 3.26496975e-03, 2.74141704e-03, 1.38710683e-01,\n",
       "       1.28537520e-03])"
      ]
     },
     "execution_count": 33,
     "metadata": {},
     "output_type": "execute_result"
    }
   ],
   "source": [
    "rf_best.feature_importances_\n"
   ]
  },
  {
   "cell_type": "code",
   "execution_count": 35,
   "id": "6593d679",
   "metadata": {},
   "outputs": [
    {
     "name": "stdout",
     "output_type": "stream",
     "text": [
      "Accuracy:100.0 %\n",
      "Classification Report:\n",
      "               precision    recall  f1-score   support\n",
      "\n",
      "          No       1.00      1.00      1.00       208\n",
      "         Yes       1.00      1.00      1.00       249\n",
      "\n",
      "    accuracy                           1.00       457\n",
      "   macro avg       1.00      1.00      1.00       457\n",
      "weighted avg       1.00      1.00      1.00       457\n",
      "\n",
      "Confusion Matrix:\n",
      " [[208   0]\n",
      " [  0 249]]\n"
     ]
    }
   ],
   "source": [
    "from sklearn.metrics import accuracy_score, classification_report, confusion_matrix\n",
    "\n",
    "y_pred = rf_best.predict(x_test)\n",
    "print(f\"Accuracy:{accuracy_score(y_test, y_pred) * 100} %\" )\n",
    "print(\"Classification Report:\\n\", classification_report(y_test, y_pred))\n",
    "print(\"Confusion Matrix:\\n\", confusion_matrix(y_test, y_pred))"
   ]
  },
  {
   "cell_type": "code",
   "execution_count": null,
   "id": "87a4444a",
   "metadata": {},
   "outputs": [],
   "source": []
  }
 ],
 "metadata": {
  "kernelspec": {
   "display_name": "Python 3 (ipykernel)",
   "language": "python",
   "name": "python3"
  },
  "language_info": {
   "codemirror_mode": {
    "name": "ipython",
    "version": 3
   },
   "file_extension": ".py",
   "mimetype": "text/x-python",
   "name": "python",
   "nbconvert_exporter": "python",
   "pygments_lexer": "ipython3",
   "version": "3.11.5"
  }
 },
 "nbformat": 4,
 "nbformat_minor": 5
}
